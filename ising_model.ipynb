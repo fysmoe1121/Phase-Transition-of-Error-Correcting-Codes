{
 "cells": [
  {
   "cell_type": "code",
   "execution_count": 53,
   "metadata": {},
   "outputs": [],
   "source": [
    "import numpy as np\n",
    "from numpy.typing import NDArray\n",
    "from typing import List"
   ]
  },
  {
   "cell_type": "code",
   "execution_count": 54,
   "metadata": {},
   "outputs": [
    {
     "name": "stdout",
     "output_type": "stream",
     "text": [
      "[[-1 -1  1 -1  1  1 -1 -1 -1]\n",
      " [-1  1 -1  1  1  1  1  1  1]\n",
      " [-1 -1 -1  1 -1 -1 -1  1  1]\n",
      " [-1  1 -1 -1 -1 -1  1 -1  1]\n",
      " [ 1 -1 -1 -1  1 -1  1  1  1]\n",
      " [ 1  1  1  1 -1 -1  1 -1 -1]\n",
      " [ 1  1 -1 -1 -1  1  1 -1  1]\n",
      " [ 1  1 -1  1  1  1 -1  1  1]\n",
      " [ 1 -1 -1 -1 -1  1 -1  1 -1]]\n"
     ]
    }
   ],
   "source": [
    "L = 9\n",
    "def generate_grid(L: int) -> np.ndarray:\n",
    "    return  np.random.choice([-1,1], size=(L,L))\n",
    "state = generate_grid(9)"
   ]
  },
  {
   "cell_type": "code",
   "execution_count": 62,
   "metadata": {},
   "outputs": [
    {
     "name": "stdout",
     "output_type": "stream",
     "text": [
      "[[-1 -1  1 -1  1  1 -1 -1 -1]\n",
      " [-1  1 -1  1  1  1  1  1  1]\n",
      " [-1 -1 -1  1 -1 -1 -1  1  1]\n",
      " [-1  1 -1 -1 -1 -1  1 -1  1]\n",
      " [ 1 -1 -1 -1  1 -1  1  1  1]\n",
      " [ 1  1  1  1 -1 -1  1 -1 -1]\n",
      " [ 1  1 -1 -1 -1  1  1 -1  1]\n",
      " [ 1  1 -1  1  1  1 -1  1  1]\n",
      " [ 1 -1 -1 -1 -1  1 -1  1 -1]]\n"
     ]
    }
   ],
   "source": [
    "print(state)"
   ]
  },
  {
   "cell_type": "code",
   "execution_count": 55,
   "metadata": {},
   "outputs": [],
   "source": [
    "def Energy(spins: np.ndarray) -> int:\n",
    "    H = 0\n",
    "    for row in spins:\n",
    "        H += np.sum(row[:-1] * row[1:])\n",
    "        #print(row[:-1] * row[1:])\n",
    "        #print(H)\n",
    "    \n",
    "    for col in spins.T:\n",
    "        H += np.sum(col[:-1] * col[1:])\n",
    "        #print(col[:-1] * col[1:])\n",
    "        #print(H)\n",
    "\n",
    "    return H\n"
   ]
  },
  {
   "cell_type": "code",
   "execution_count": 56,
   "metadata": {},
   "outputs": [
    {
     "name": "stdout",
     "output_type": "stream",
     "text": [
      "2\n"
     ]
    }
   ],
   "source": [
    "print(Energy(state))"
   ]
  },
  {
   "cell_type": "code",
   "execution_count": 78,
   "metadata": {},
   "outputs": [],
   "source": [
    "def DeltaE(initial_spins: np.ndarray, spin_to_flip: tuple[int, int]) -> int:\n",
    "    #Calculates E_new - E_old\n",
    "    L = initial_spins.shape[0]\n",
    "    sum_of_neighbors = 0\n",
    "    x,y = spin_to_flip[0], spin_to_flip[1]\n",
    "    for dx in [-1,1]:\n",
    "        if (0 <= x + dx < L):\n",
    "             sum_of_neighbors += initial_spins[x + dx, y]\n",
    "\n",
    "    for dy in [-1,1]:\n",
    "        if (0 <= y + dy < L):\n",
    "            sum_of_neighbors += initial_spins[x, y + dy]\n",
    "     \n",
    "    return -2 * sum_of_neighbors * initial_spins[x, y]\n"
   ]
  },
  {
   "cell_type": "code",
   "execution_count": 79,
   "metadata": {},
   "outputs": [
    {
     "name": "stdout",
     "output_type": "stream",
     "text": [
      "8\n"
     ]
    }
   ],
   "source": [
    "print(DeltaE(state, [4,4]))"
   ]
  },
  {
   "cell_type": "code",
   "execution_count": 75,
   "metadata": {},
   "outputs": [],
   "source": [
    "new_state = state.copy()\n",
    "new_state[4,4] = state[4,4] * -1"
   ]
  },
  {
   "cell_type": "code",
   "execution_count": 76,
   "metadata": {},
   "outputs": [
    {
     "data": {
      "text/plain": [
       "2"
      ]
     },
     "execution_count": 76,
     "metadata": {},
     "output_type": "execute_result"
    }
   ],
   "source": [
    "Energy(state)"
   ]
  },
  {
   "cell_type": "code",
   "execution_count": 77,
   "metadata": {},
   "outputs": [
    {
     "data": {
      "text/plain": [
       "10"
      ]
     },
     "execution_count": 77,
     "metadata": {},
     "output_type": "execute_result"
    }
   ],
   "source": [
    "Energy(new_state)"
   ]
  },
  {
   "cell_type": "code",
   "execution_count": 81,
   "metadata": {},
   "outputs": [
    {
     "name": "stdout",
     "output_type": "stream",
     "text": [
      "[[1. 1. 1. 1.]\n",
      " [1. 1. 1. 1.]\n",
      " [1. 1. 1. 1.]\n",
      " [1. 1. 1. 1.]]\n"
     ]
    }
   ],
   "source": [
    "all_ones = np.ones((4,4))\n",
    "print(all_ones)"
   ]
  },
  {
   "cell_type": "code",
   "execution_count": 82,
   "metadata": {},
   "outputs": [
    {
     "name": "stdout",
     "output_type": "stream",
     "text": [
      "24.0\n"
     ]
    }
   ],
   "source": [
    "print(Energy(all_ones))"
   ]
  },
  {
   "cell_type": "code",
   "execution_count": 83,
   "metadata": {},
   "outputs": [],
   "source": [
    "flip_all_ones = all_ones.copy()\n",
    "flip_all_ones[1,0] = -1"
   ]
  },
  {
   "cell_type": "code",
   "execution_count": 84,
   "metadata": {},
   "outputs": [
    {
     "name": "stdout",
     "output_type": "stream",
     "text": [
      "18.0\n"
     ]
    }
   ],
   "source": [
    "print(Energy(flip_all_ones))"
   ]
  },
  {
   "cell_type": "code",
   "execution_count": 85,
   "metadata": {},
   "outputs": [
    {
     "name": "stdout",
     "output_type": "stream",
     "text": [
      "-6.0\n"
     ]
    }
   ],
   "source": [
    "print(DeltaE(all_ones, [1,0]))"
   ]
  },
  {
   "cell_type": "code",
   "execution_count": null,
   "metadata": {},
   "outputs": [],
   "source": []
  }
 ],
 "metadata": {
  "kernelspec": {
   "display_name": "base",
   "language": "python",
   "name": "python3"
  },
  "language_info": {
   "codemirror_mode": {
    "name": "ipython",
    "version": 3
   },
   "file_extension": ".py",
   "mimetype": "text/x-python",
   "name": "python",
   "nbconvert_exporter": "python",
   "pygments_lexer": "ipython3",
   "version": "3.11.8"
  }
 },
 "nbformat": 4,
 "nbformat_minor": 2
}
