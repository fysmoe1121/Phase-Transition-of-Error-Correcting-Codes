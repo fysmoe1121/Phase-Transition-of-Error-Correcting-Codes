{
 "cells": [
  {
   "cell_type": "code",
   "execution_count": 50,
   "metadata": {},
   "outputs": [],
   "source": [
    "import numpy as np\n",
    "from scipy.constants import Boltzmann as k\n",
    "from numpy.typing import NDArray\n",
    "from typing import List\n",
    "import matplotlib.pyplot as plt\n",
    "from numba import jit\n",
    "import numba as nb\n",
    "from scipy.ndimage import convolve, generate_binary_structure"
   ]
  },
  {
   "cell_type": "code",
   "execution_count": 424,
   "metadata": {},
   "outputs": [],
   "source": [
    "N = 3\n",
    "@nb.njit(parallel=True)\n",
    "def generate_lattice(L: int, p: float = 0.5) -> np.ndarray:\n",
    "    init_lattice = np.empty((L, L), dtype=np.float32)\n",
    "    for i in nb.prange(L):\n",
    "        for j in range(L):\n",
    "            # Generate a random number for each element\n",
    "            random_value = np.random.random()\n",
    "            if random_value >= p:\n",
    "                init_lattice[i, j] = 1\n",
    "            else:\n",
    "                init_lattice[i, j] = -1\n",
    "    return init_lattice\n",
    "\n",
    "state = generate_lattice(25, 0.5)"
   ]
  },
  {
   "cell_type": "code",
   "execution_count": 425,
   "metadata": {},
   "outputs": [
    {
     "name": "stdout",
     "output_type": "stream",
     "text": [
      "[[-1. -1. -1. -1.  1.  1. -1. -1.  1. -1.  1. -1. -1.  1. -1.  1.  1. -1.\n",
      "  -1. -1.  1. -1. -1.  1. -1.]\n",
      " [-1.  1.  1.  1. -1. -1.  1.  1.  1.  1. -1. -1.  1.  1. -1. -1. -1. -1.\n",
      "  -1.  1.  1. -1.  1. -1. -1.]\n",
      " [ 1. -1. -1. -1. -1.  1. -1.  1.  1. -1. -1. -1. -1. -1.  1. -1.  1. -1.\n",
      "  -1. -1. -1.  1.  1. -1. -1.]\n",
      " [-1.  1.  1.  1. -1.  1.  1.  1. -1. -1.  1.  1.  1.  1.  1. -1. -1.  1.\n",
      "   1.  1. -1.  1.  1.  1. -1.]\n",
      " [ 1.  1. -1. -1. -1.  1.  1.  1.  1.  1.  1.  1. -1.  1. -1. -1.  1.  1.\n",
      "   1. -1. -1. -1. -1.  1. -1.]\n",
      " [-1.  1.  1. -1. -1.  1.  1.  1. -1.  1.  1.  1.  1.  1. -1. -1. -1.  1.\n",
      "  -1. -1. -1. -1. -1.  1.  1.]\n",
      " [ 1.  1.  1.  1. -1. -1.  1. -1. -1. -1. -1. -1. -1. -1. -1. -1.  1.  1.\n",
      "  -1.  1.  1. -1. -1. -1. -1.]\n",
      " [-1.  1.  1. -1. -1.  1.  1. -1. -1.  1.  1. -1. -1. -1.  1. -1. -1.  1.\n",
      "  -1.  1. -1. -1.  1. -1.  1.]\n",
      " [-1.  1. -1. -1.  1.  1. -1. -1.  1.  1.  1. -1.  1. -1.  1.  1.  1.  1.\n",
      "  -1.  1. -1. -1.  1.  1. -1.]\n",
      " [-1. -1. -1. -1. -1. -1.  1.  1.  1.  1.  1. -1.  1.  1.  1.  1.  1. -1.\n",
      "  -1.  1. -1.  1.  1. -1. -1.]\n",
      " [-1. -1.  1.  1. -1.  1. -1.  1. -1. -1. -1.  1.  1.  1.  1.  1. -1.  1.\n",
      "   1. -1.  1.  1.  1. -1. -1.]\n",
      " [-1. -1.  1. -1. -1. -1. -1.  1.  1. -1. -1. -1.  1. -1. -1. -1.  1. -1.\n",
      "  -1. -1.  1.  1. -1. -1. -1.]\n",
      " [-1. -1. -1. -1. -1. -1. -1. -1.  1. -1. -1.  1. -1.  1.  1. -1. -1. -1.\n",
      "  -1. -1. -1. -1.  1.  1.  1.]\n",
      " [ 1.  1.  1. -1. -1.  1. -1.  1. -1. -1. -1. -1. -1.  1.  1.  1.  1.  1.\n",
      "  -1. -1. -1.  1. -1. -1. -1.]\n",
      " [-1. -1.  1.  1.  1.  1.  1. -1. -1. -1. -1. -1.  1. -1. -1.  1.  1.  1.\n",
      "  -1. -1.  1.  1. -1. -1.  1.]\n",
      " [ 1.  1.  1. -1.  1. -1.  1.  1.  1. -1. -1. -1. -1. -1. -1.  1. -1.  1.\n",
      "   1. -1. -1. -1.  1.  1. -1.]\n",
      " [-1. -1. -1. -1.  1.  1. -1.  1. -1. -1. -1. -1. -1. -1.  1.  1. -1.  1.\n",
      "  -1.  1.  1. -1.  1. -1. -1.]\n",
      " [-1. -1. -1.  1. -1.  1. -1. -1.  1. -1.  1.  1. -1.  1. -1.  1.  1.  1.\n",
      "  -1.  1. -1.  1. -1.  1. -1.]\n",
      " [-1. -1. -1. -1. -1.  1. -1. -1. -1.  1.  1.  1. -1.  1.  1.  1. -1.  1.\n",
      "   1.  1. -1.  1.  1.  1.  1.]\n",
      " [-1.  1.  1. -1. -1.  1. -1. -1. -1.  1. -1.  1.  1.  1. -1. -1. -1. -1.\n",
      "   1.  1.  1.  1.  1.  1. -1.]\n",
      " [ 1. -1.  1. -1. -1. -1.  1. -1.  1.  1. -1.  1. -1. -1.  1. -1. -1. -1.\n",
      "   1. -1.  1.  1.  1.  1.  1.]\n",
      " [-1.  1. -1.  1. -1.  1. -1.  1.  1.  1.  1. -1.  1.  1. -1. -1.  1.  1.\n",
      "   1. -1.  1.  1.  1.  1. -1.]\n",
      " [ 1.  1.  1. -1. -1. -1. -1. -1.  1. -1. -1.  1. -1. -1. -1. -1.  1.  1.\n",
      "  -1.  1.  1.  1.  1.  1.  1.]\n",
      " [-1. -1.  1.  1. -1.  1. -1.  1.  1. -1. -1.  1. -1. -1.  1. -1. -1. -1.\n",
      "   1. -1. -1. -1.  1. -1.  1.]\n",
      " [ 1.  1.  1. -1. -1. -1.  1. -1.  1. -1.  1.  1.  1.  1. -1. -1.  1.  1.\n",
      "   1.  1. -1.  1. -1. -1. -1.]]\n"
     ]
    }
   ],
   "source": [
    "print(state)"
   ]
  },
  {
   "cell_type": "code",
   "execution_count": 168,
   "metadata": {},
   "outputs": [],
   "source": [
    "def energy_naive(lattice: np.ndarray) -> int:\n",
    "    H = 0\n",
    "    for row in lattice:\n",
    "        H += (np.sum(row[:-1] * row[1:]) + row[0]*row[-1])\n",
    "    \n",
    "    for col in lattice.T:\n",
    "        H += (np.sum(col[:-1] * col[1:]) + col[0]*col[-1])\n",
    "\n",
    "    return -2*H\n"
   ]
  },
  {
   "cell_type": "code",
   "execution_count": 169,
   "metadata": {},
   "outputs": [],
   "source": [
    "def energy_conv(lattice: np.ndarray) -> int:\n",
    "    kern = generate_binary_structure(2,1)\n",
    "    kern[1][1] = False\n",
    "    arr = -lattice * convolve(lattice, kern, mode = \"wrap\")\n",
    "    return arr.sum()"
   ]
  },
  {
   "cell_type": "code",
   "execution_count": 170,
   "metadata": {},
   "outputs": [],
   "source": [
    "import numpy as np\n",
    "from numba import jit\n",
    "\n",
    "@jit(nopython=True)  # Use the nopython mode for better performance\n",
    "def energy_numba(lattice: np.ndarray) -> int:\n",
    "    H = 0\n",
    "    N = lattice.shape[0]\n",
    "    M = lattice.shape[1]\n",
    "\n",
    "    # Calculate horizontal interactions with periodic boundary conditions\n",
    "    for i in range(N):\n",
    "        for j in range(M):\n",
    "            right_neighbor = (j + 1) % M  # Wrap around horizontally\n",
    "            H += lattice[i, j] * lattice[i, right_neighbor]\n",
    "\n",
    "    # Calculate vertical interactions with periodic boundary conditions\n",
    "    for i in range(N):\n",
    "        for j in range(M):\n",
    "            down_neighbor = (i + 1) % N  # Wrap around vertically\n",
    "            H += lattice[i, j] * lattice[down_neighbor, j]\n",
    "\n",
    "    return -2 * H"
   ]
  },
  {
   "cell_type": "code",
   "execution_count": 171,
   "metadata": {},
   "outputs": [],
   "source": [
    "import numba as nb\n",
    "@jit(parallel=True)\n",
    "def energy(lattice):\n",
    "    N, M = lattice.shape  # Assuming a square lattice for simplicity\n",
    "    H = 0.0\n",
    "    \n",
    "    # Loop over all elements to calculate horizontal and vertical interactions\n",
    "    # Parallelize the outer loop\n",
    "    for i in nb.prange(N):\n",
    "        for j in range(M):\n",
    "            right_neighbor = (j + 1) % M\n",
    "            down_neighbor = (i + 1) % N\n",
    "            \n",
    "            # Periodic boundary conditions are handled by wrapping index\n",
    "            H += lattice[i, j] * (lattice[i, right_neighbor] + lattice[down_neighbor, j])\n",
    "    \n",
    "    # Multiply by -2 as in the original specification\n",
    "    return -2 * H"
   ]
  },
  {
   "cell_type": "code",
   "execution_count": 172,
   "metadata": {},
   "outputs": [
    {
     "name": "stdout",
     "output_type": "stream",
     "text": [
      "-4.0\n"
     ]
    }
   ],
   "source": [
    "print(energy(state))"
   ]
  },
  {
   "cell_type": "code",
   "execution_count": 173,
   "metadata": {},
   "outputs": [
    {
     "name": "stdout",
     "output_type": "stream",
     "text": [
      "-4.0\n"
     ]
    }
   ],
   "source": [
    "print(energy_numba(state))"
   ]
  },
  {
   "cell_type": "code",
   "execution_count": 174,
   "metadata": {},
   "outputs": [
    {
     "name": "stdout",
     "output_type": "stream",
     "text": [
      "-4.0\n"
     ]
    }
   ],
   "source": [
    "print(energy_naive(state))"
   ]
  },
  {
   "cell_type": "code",
   "execution_count": 175,
   "metadata": {},
   "outputs": [
    {
     "name": "stdout",
     "output_type": "stream",
     "text": [
      "-4.0\n"
     ]
    }
   ],
   "source": [
    "print(energy_conv(state))"
   ]
  },
  {
   "cell_type": "code",
   "execution_count": 176,
   "metadata": {},
   "outputs": [],
   "source": [
    "def plot(lattice):\n",
    "    plt.imshow(lattice, cmap = plt.cm.colors.ListedColormap(['#0000FF', '#FF0000']))"
   ]
  },
  {
   "cell_type": "code",
   "execution_count": 177,
   "metadata": {},
   "outputs": [
    {
     "data": {
      "image/png": "[encoded data removed]",
      "text/plain": [
       "<Figure size 640x480 with 1 Axes>"
      ]
     },
     "metadata": {},
     "output_type": "display_data"
    }
   ],
   "source": [
    "plot(state)"
   ]
  },
  {
   "cell_type": "code",
   "execution_count": 178,
   "metadata": {},
   "outputs": [],
   "source": [
    "def delta_energy(initial_lattice: np.ndarray, spin_to_flip: tuple[int, int]) -> int:\n",
    "    #Calculates E_new - E_old\n",
    "    L = initial_lattice.shape[0]\n",
    "    sum_of_neighbors = 0\n",
    "    x,y = spin_to_flip[0], spin_to_flip[1]\n",
    "\n",
    "    sum_of_neighbors += initial_lattice[(x + 1)%L, y]\n",
    "    sum_of_neighbors += initial_lattice[(x - 1)%L, y]\n",
    "\n",
    "    sum_of_neighbors += initial_lattice[x, (y + 1)%L]\n",
    "    sum_of_neighbors += initial_lattice[x, (y - 1)%L]\n",
    "     \n",
    "    return 4 * sum_of_neighbors * initial_lattice[x, y]\n"
   ]
  },
  {
   "cell_type": "code",
   "execution_count": 426,
   "metadata": {},
   "outputs": [
    {
     "name": "stdout",
     "output_type": "stream",
     "text": [
      "-0.0\n"
     ]
    }
   ],
   "source": [
    "print(delta_energy(state, [2,2]))"
   ]
  },
  {
   "cell_type": "code",
   "execution_count": 165,
   "metadata": {},
   "outputs": [
    {
     "ename": "IndexError",
     "evalue": "index 4 is out of bounds for axis 0 with size 3",
     "output_type": "error",
     "traceback": [
      "\u001b[0;31m---------------------------------------------------------------------------\u001b[0m",
      "\u001b[0;31mIndexError\u001b[0m                                Traceback (most recent call last)",
      "Cell \u001b[0;32mIn[165], line 2\u001b[0m\n\u001b[1;32m      1\u001b[0m new_state \u001b[38;5;241m=\u001b[39m state\u001b[38;5;241m.\u001b[39mcopy()\n\u001b[0;32m----> 2\u001b[0m new_state[\u001b[38;5;241m4\u001b[39m,\u001b[38;5;241m4\u001b[39m] \u001b[38;5;241m=\u001b[39m state[\u001b[38;5;241m4\u001b[39m,\u001b[38;5;241m4\u001b[39m] \u001b[38;5;241m*\u001b[39m \u001b[38;5;241m-\u001b[39m\u001b[38;5;241m1\u001b[39m\n",
      "\u001b[0;31mIndexError\u001b[0m: index 4 is out of bounds for axis 0 with size 3"
     ]
    }
   ],
   "source": [
    "new_state = state.copy()\n",
    "new_state[4,4] = state[4,4] * -1"
   ]
  },
  {
   "cell_type": "code",
   "execution_count": 125,
   "metadata": {},
   "outputs": [
    {
     "data": {
      "text/plain": [
       "-64.0"
      ]
     },
     "execution_count": 125,
     "metadata": {},
     "output_type": "execute_result"
    }
   ],
   "source": [
    "energy(state)"
   ]
  },
  {
   "cell_type": "code",
   "execution_count": 182,
   "metadata": {},
   "outputs": [
    {
     "data": {
      "image/png": "[encoded data removed]",
      "text/plain": [
       "<Figure size 640x480 with 1 Axes>"
      ]
     },
     "metadata": {},
     "output_type": "display_data"
    }
   ],
   "source": [
    "plot(state)"
   ]
  },
  {
   "cell_type": "code",
   "execution_count": 183,
   "metadata": {},
   "outputs": [
    {
     "data": {
      "image/png": "[encoded data removed]",
      "text/plain": [
       "<Figure size 640x480 with 1 Axes>"
      ]
     },
     "metadata": {},
     "output_type": "display_data"
    }
   ],
   "source": [
    "plot(new_state)"
   ]
  },
  {
   "cell_type": "code",
   "execution_count": 184,
   "metadata": {},
   "outputs": [
    {
     "data": {
      "text/plain": [
       "0.0"
      ]
     },
     "execution_count": 184,
     "metadata": {},
     "output_type": "execute_result"
    }
   ],
   "source": [
    "energy(new_state) - energy(state)"
   ]
  },
  {
   "cell_type": "code",
   "execution_count": 185,
   "metadata": {},
   "outputs": [],
   "source": [
    "def flip_spin_in_lattice(lattice: np.ndarray, spin: tuple[int,int]) -> np.ndarray:\n",
    "    #given a lattice l, return a new lattice l'\n",
    "    spin_to_flip_x, spin_to_flip_y = spin\n",
    "    new_lattice = lattice.copy()\n",
    "    new_lattice[spin_to_flip_x, spin_to_flip_y] = lattice[spin_to_flip_x, spin_to_flip_y] * -1\n",
    "    return new_lattice"
   ]
  },
  {
   "cell_type": "code",
   "execution_count": 429,
   "metadata": {},
   "outputs": [
    {
     "data": {
      "text/plain": [
       "8.0"
      ]
     },
     "execution_count": 429,
     "metadata": {},
     "output_type": "execute_result"
    }
   ],
   "source": [
    "energy(flip_spin_in_lattice(state, [5,4])) - energy(state)"
   ]
  },
  {
   "cell_type": "code",
   "execution_count": 430,
   "metadata": {},
   "outputs": [
    {
     "data": {
      "text/plain": [
       "8.0"
      ]
     },
     "execution_count": 430,
     "metadata": {},
     "output_type": "execute_result"
    }
   ],
   "source": [
    "delta_energy(state, [5,4])"
   ]
  },
  {
   "cell_type": "code",
   "execution_count": 188,
   "metadata": {},
   "outputs": [],
   "source": [
    "def flip_random_spin(lattice: np.ndarray) -> tuple[int, int]:\n",
    "    L = lattice.shape[0]\n",
    "    return np.random.randint(0, L, size = (1,2))[0]"
   ]
  },
  {
   "cell_type": "code",
   "execution_count": 371,
   "metadata": {},
   "outputs": [
    {
     "data": {
      "text/plain": [
       "array([0, 2])"
      ]
     },
     "execution_count": 371,
     "metadata": {},
     "output_type": "execute_result"
    }
   ],
   "source": [
    "flip_random_spin(state)"
   ]
  },
  {
   "cell_type": "code",
   "execution_count": 288,
   "metadata": {},
   "outputs": [],
   "source": [
    "def avg_magnetization(lattice: np.ndarray) -> float:\n",
    "    return np.mean(lattice)"
   ]
  },
  {
   "cell_type": "code",
   "execution_count": 418,
   "metadata": {},
   "outputs": [],
   "source": [
    "def metropolis_hasting_sampler(init_dist, beta, num_iters, sweep_size = 50):\n",
    "    fixed_time_samples = []\n",
    "    updated_samples = []\n",
    "    sample = init_dist\n",
    "    for i in range(num_iters):\n",
    "        candidate_spin = flip_random_spin(sample)\n",
    "        acceptance_prop = min(1, np.exp(-beta * delta_energy(sample, candidate_spin)))\n",
    "        if (acceptance_prop > np.random.random()):\n",
    "            sample = flip_spin_in_lattice(sample, candidate_spin)\n",
    "            updated_samples.append(sample)\n",
    "        if i % sweep_size == 0:\n",
    "            fixed_time_samples.append(sample)\n",
    "    return fixed_time_samples, updated_samples\n",
    "            "
   ]
  },
  {
   "cell_type": "code",
   "execution_count": 446,
   "metadata": {},
   "outputs": [
    {
     "name": "stdout",
     "output_type": "stream",
     "text": [
      "20000 2150\n"
     ]
    }
   ],
   "source": [
    "mh_fixed_time_res, mh_updated_res = metropolis_hasting_sampler(generate_lattice(24, 0.5), 10, 1_000_000)\n",
    "print(len(mh_fixed_time_res), len(mh_updated_res))"
   ]
  },
  {
   "cell_type": "code",
   "execution_count": 447,
   "metadata": {},
   "outputs": [],
   "source": [
    "def turn_into_number(samples):\n",
    "    res = []\n",
    "    for sample in samples:\n",
    "        flattened_sample = sample.flatten().tolist()\n",
    "        binary_string = ''.join(str(1 if bit == 1 else 0) for bit in flattened_sample)\n",
    "        res.append(int(binary_string, 2))\n",
    "    return res\n"
   ]
  },
  {
   "cell_type": "code",
   "execution_count": 448,
   "metadata": {},
   "outputs": [
    {
     "data": {
      "text/plain": [
       "[<matplotlib.lines.Line2D at 0x17b5ace50>]"
      ]
     },
     "execution_count": 448,
     "metadata": {},
     "output_type": "execute_result"
    },
    {
     "data": {
      "image/png": "[encoded data removed]",
      "text/plain": [
       "<Figure size 640x480 with 1 Axes>"
      ]
     },
     "metadata": {},
     "output_type": "display_data"
    }
   ],
   "source": [
    "mh_res_energy = [energy(sample) for sample in mh_updated_res]\n",
    "plt.plot(mh_res_energy)"
   ]
  },
  {
   "cell_type": "markdown",
   "metadata": {},
   "source": [
    "\n"
   ]
  },
  {
   "cell_type": "code",
   "execution_count": 449,
   "metadata": {},
   "outputs": [
    {
     "data": {
      "text/plain": [
       "[<matplotlib.lines.Line2D at 0x2bb064b10>]"
      ]
     },
     "execution_count": 449,
     "metadata": {},
     "output_type": "execute_result"
    },
    {
     "data": {
      "image/png": "[encoded data removed]",
      "text/plain": [
       "<Figure size 640x480 with 1 Axes>"
      ]
     },
     "metadata": {},
     "output_type": "display_data"
    }
   ],
   "source": [
    "mh_res_magnetization = [avg_magnetization(sample) for sample in mh_updated_res]\n",
    "plt.plot(mh_res_magnetization)"
   ]
  },
  {
   "cell_type": "code",
   "execution_count": 442,
   "metadata": {},
   "outputs": [
    {
     "data": {
      "image/png": "[encoded data removed]",
      "text/plain": [
       "<Figure size 640x480 with 1 Axes>"
      ]
     },
     "metadata": {},
     "output_type": "display_data"
    }
   ],
   "source": [
    "plot(mh_updated_res[-11])"
   ]
  },
  {
   "cell_type": "code",
   "execution_count": null,
   "metadata": {},
   "outputs": [],
   "source": [
    "def heat_bath_update(lattice: nd_darray):\n",
    "    "
   ]
  }
 ],
 "metadata": {
  "kernelspec": {
   "display_name": "Python 3 (ipykernel)",
   "language": "python",
   "name": "python3"
  },
  "language_info": {
   "codemirror_mode": {
    "name": "ipython",
    "version": 3
   },
   "file_extension": ".py",
   "mimetype": "text/x-python",
   "name": "python",
   "nbconvert_exporter": "python",
   "pygments_lexer": "ipython3",
   "version": "3.11.8"
  }
 },
 "nbformat": 4,
 "nbformat_minor": 2
}
