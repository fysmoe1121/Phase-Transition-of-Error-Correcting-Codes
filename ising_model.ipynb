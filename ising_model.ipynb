{
 "cells": [
  {
   "cell_type": "code",
   "execution_count": 131,
   "metadata": {},
   "outputs": [],
   "source": [
    "import numpy as np\n",
    "from scipy.constants import Boltzmann as k\n",
    "from numpy.typing import NDArray\n",
    "from typing import List"
   ]
  },
  {
   "cell_type": "code",
   "execution_count": 132,
   "metadata": {},
   "outputs": [],
   "source": [
    "L = 9\n",
    "def generate_grid(L: int) -> np.ndarray:\n",
    "    return  np.random.choice([-1,1], size=(L,L))\n",
    "state = generate_grid(9)"
   ]
  },
  {
   "cell_type": "code",
   "execution_count": 133,
   "metadata": {},
   "outputs": [
    {
     "name": "stdout",
     "output_type": "stream",
     "text": [
      "[[-1  1  1  1  1 -1 -1 -1  1]\n",
      " [-1  1  1  1 -1 -1  1  1  1]\n",
      " [-1 -1 -1  1 -1 -1  1  1  1]\n",
      " [ 1  1 -1 -1  1 -1  1 -1  1]\n",
      " [ 1  1  1 -1 -1 -1  1  1  1]\n",
      " [ 1  1 -1 -1  1 -1 -1 -1  1]\n",
      " [ 1 -1  1 -1 -1 -1  1 -1 -1]\n",
      " [ 1 -1 -1  1 -1 -1 -1 -1 -1]\n",
      " [-1 -1  1  1 -1  1 -1  1  1]]\n"
     ]
    }
   ],
   "source": [
    "print(state)"
   ]
  },
  {
   "cell_type": "code",
   "execution_count": 134,
   "metadata": {},
   "outputs": [],
   "source": [
    "def Energy(spins: np.ndarray) -> int:\n",
    "    H = 0\n",
    "    for row in spins:\n",
    "        H += np.sum(row[:-1] * row[1:])\n",
    "        #print(row[:-1] * row[1:])\n",
    "        #print(H)\n",
    "    \n",
    "    for col in spins.T:\n",
    "        H += np.sum(col[:-1] * col[1:])\n",
    "        #print(col[:-1] * col[1:])\n",
    "        #print(H)\n",
    "\n",
    "    return H\n"
   ]
  },
  {
   "cell_type": "code",
   "execution_count": 135,
   "metadata": {},
   "outputs": [
    {
     "name": "stdout",
     "output_type": "stream",
     "text": [
      "16\n"
     ]
    }
   ],
   "source": [
    "print(Energy(state))"
   ]
  },
  {
   "cell_type": "code",
   "execution_count": 136,
   "metadata": {},
   "outputs": [],
   "source": [
    "def DeltaE(initial_spins: np.ndarray, spin_to_flip: tuple[int, int]) -> int:\n",
    "    #Calculates E_new - E_old\n",
    "    L = initial_spins.shape[0]\n",
    "    sum_of_neighbors = 0\n",
    "    x,y = spin_to_flip[0], spin_to_flip[1]\n",
    "    for dx in [-1,1]:\n",
    "        if (0 <= x + dx < L):\n",
    "             sum_of_neighbors += initial_spins[x + dx, y]\n",
    "\n",
    "    for dy in [-1,1]:\n",
    "        if (0 <= y + dy < L):\n",
    "            sum_of_neighbors += initial_spins[x, y + dy]\n",
    "     \n",
    "    return -2 * sum_of_neighbors * initial_spins[x, y]\n"
   ]
  },
  {
   "cell_type": "code",
   "execution_count": 137,
   "metadata": {},
   "outputs": [
    {
     "name": "stdout",
     "output_type": "stream",
     "text": [
      "0\n"
     ]
    }
   ],
   "source": [
    "print(DeltaE(state, [4,4]))"
   ]
  },
  {
   "cell_type": "code",
   "execution_count": 138,
   "metadata": {},
   "outputs": [],
   "source": [
    "new_state = state.copy()\n",
    "new_state[4,4] = state[4,4] * -1"
   ]
  },
  {
   "cell_type": "code",
   "execution_count": 139,
   "metadata": {},
   "outputs": [
    {
     "data": {
      "text/plain": [
       "16"
      ]
     },
     "execution_count": 139,
     "metadata": {},
     "output_type": "execute_result"
    }
   ],
   "source": [
    "Energy(state)"
   ]
  },
  {
   "cell_type": "code",
   "execution_count": 140,
   "metadata": {},
   "outputs": [
    {
     "data": {
      "text/plain": [
       "16"
      ]
     },
     "execution_count": 140,
     "metadata": {},
     "output_type": "execute_result"
    }
   ],
   "source": [
    "Energy(new_state)"
   ]
  },
  {
   "cell_type": "code",
   "execution_count": 141,
   "metadata": {},
   "outputs": [
    {
     "name": "stdout",
     "output_type": "stream",
     "text": [
      "[[1. 1. 1. 1.]\n",
      " [1. 1. 1. 1.]\n",
      " [1. 1. 1. 1.]\n",
      " [1. 1. 1. 1.]]\n"
     ]
    }
   ],
   "source": [
    "all_ones = np.ones((4,4))\n",
    "print(all_ones)"
   ]
  },
  {
   "cell_type": "code",
   "execution_count": 142,
   "metadata": {},
   "outputs": [
    {
     "name": "stdout",
     "output_type": "stream",
     "text": [
      "24.0\n"
     ]
    }
   ],
   "source": [
    "print(Energy(all_ones))"
   ]
  },
  {
   "cell_type": "code",
   "execution_count": 143,
   "metadata": {},
   "outputs": [],
   "source": [
    "flip_all_ones = all_ones.copy()\n",
    "flip_all_ones[1,0] = -1"
   ]
  },
  {
   "cell_type": "code",
   "execution_count": 144,
   "metadata": {},
   "outputs": [
    {
     "name": "stdout",
     "output_type": "stream",
     "text": [
      "18.0\n"
     ]
    }
   ],
   "source": [
    "print(Energy(flip_all_ones))"
   ]
  },
  {
   "cell_type": "code",
   "execution_count": 195,
   "metadata": {},
   "outputs": [
    {
     "name": "stdout",
     "output_type": "stream",
     "text": [
      "-6.0\n"
     ]
    }
   ],
   "source": [
    "print(DeltaE(all_ones, [1,0]))"
   ]
  },
  {
   "cell_type": "code",
   "execution_count": 197,
   "metadata": {},
   "outputs": [],
   "source": [
    "def move_spins(config: np.ndarray, spin: tuple[int,int]) -> np.ndarray:\n",
    "    #given a configuration c, return a new configuration c'\n",
    "    spin_to_flip_x, spin_to_flip_y = spin\n",
    "    new_config = config.copy()\n",
    "    new_config[spin_to_flip_x, spin_to_flip_y] = config[spin_to_flip_x, spin_to_flip_y] * -1\n",
    "    return new_config"
   ]
  },
  {
   "cell_type": "code",
   "execution_count": 198,
   "metadata": {},
   "outputs": [],
   "source": [
    "def mcmc(proposal_func, init_dist, score_func,\n",
    "                        num_iters, steps=30):\n",
    "    \"\"\"\n",
    "    Runs the metropolis-hastings algorithm for\n",
    "    num_iters iterations, using proposal_func\n",
    "    to generate candidate states and scorer to\n",
    "    assign probability scores to candidate\n",
    "    states.\n",
    "    \n",
    "    proposal_func: function that proposes\n",
    "        candidate state; takes in current state as\n",
    "        argument and returns candidate state\n",
    "    init_func: function that proposes starting\n",
    "        state; takes no arguments and returns a\n",
    "        sample state\n",
    "    score_func: function that calculates f(y)/f(x)\n",
    "        * g(y,x)/g(x,y); takes in two state samples\n",
    "        (the current sample x then the candidate y).\n",
    "    \n",
    "    Returns a sequence of every step-th sample. You \n",
    "    should only sample on upon acceptance of a new\n",
    "    proposal. Do not keep sampling the current state.\n",
    "    \n",
    "    Note the total number of samples will NOT be\n",
    "    equal to num_iters. num_iters is the total number\n",
    "    of proposals we generate.\n",
    "    \"\"\"\n",
    "    samples = []\n",
    "    sample = init_dist\n",
    "    for sweep in range(num_iters):\n",
    "        for step in range(steps):\n",
    "            candidate = proposal_func(sample)\n",
    "            acceptance_prob = min(1, score_func(sample, candidate))\n",
    "            if np.random.uniform() < acceptance_prob:\n",
    "                sample = move_spins(sample, candidate)\n",
    "                if sweep > 20:\n",
    "                    samples.append(sample.flatten())\n",
    "    return samples[::step]"
   ]
  },
  {
   "cell_type": "code",
   "execution_count": 199,
   "metadata": {},
   "outputs": [],
   "source": [
    "def flip_spin(config: np.ndarray) -> tuple[int, int]:\n",
    "    L = config.shape[0]\n",
    "    return np.random.randint(0, L, size = (1,2))[0]"
   ]
  },
  {
   "cell_type": "code",
   "execution_count": null,
   "metadata": {},
   "outputs": [],
   "source": [
    "\n"
   ]
  },
  {
   "cell_type": "code",
   "execution_count": 204,
   "metadata": {},
   "outputs": [],
   "source": [
    "temp = 300\n",
    "beta = 1"
   ]
  },
  {
   "cell_type": "code",
   "execution_count": 205,
   "metadata": {},
   "outputs": [],
   "source": [
    "def score_fn(config: np.ndarray, proposed_flip: tuple[int, int]) -> float:\n",
    "    return np.exp(-beta * DeltaE(config, proposed_flip))"
   ]
  },
  {
   "cell_type": "code",
   "execution_count": 206,
   "metadata": {},
   "outputs": [
    {
     "name": "stdout",
     "output_type": "stream",
     "text": [
      "[[1. 1. 1. 1.]\n",
      " [1. 1. 1. 1.]\n",
      " [1. 1. 1. 1.]\n",
      " [1. 1. 1. 1.]]\n"
     ]
    },
    {
     "ename": "TypeError",
     "evalue": "move_spins() missing 1 required positional argument: 'spin'",
     "output_type": "error",
     "traceback": [
      "\u001b[0;31m---------------------------------------------------------------------------\u001b[0m",
      "\u001b[0;31mTypeError\u001b[0m                                 Traceback (most recent call last)",
      "Cell \u001b[0;32mIn[206], line 2\u001b[0m\n\u001b[1;32m      1\u001b[0m \u001b[38;5;28mprint\u001b[39m(all_ones)\n\u001b[0;32m----> 2\u001b[0m \u001b[38;5;28mprint\u001b[39m(move_spins(all_ones))\n",
      "\u001b[0;31mTypeError\u001b[0m: move_spins() missing 1 required positional argument: 'spin'"
     ]
    }
   ],
   "source": [
    "print(all_ones)\n",
    "print(move_spins(all_ones))"
   ]
  },
  {
   "cell_type": "markdown",
   "metadata": {},
   "source": []
  },
  {
   "cell_type": "code",
   "execution_count": 207,
   "metadata": {},
   "outputs": [
    {
     "data": {
      "text/plain": [
       "[array([ 1, -1, -1, -1,  1, -1,  1, -1,  1]),\n",
       " array([ 1, -1,  1, -1,  1, -1,  1, -1,  1]),\n",
       " array([ 1, -1,  1, -1,  1, -1, -1, -1,  1]),\n",
       " array([ 1, -1, -1, -1, -1,  1,  1, -1, -1]),\n",
       " array([-1,  1,  1,  1, -1, -1, -1,  1, -1]),\n",
       " array([-1,  1,  1,  1, -1,  1, -1,  1, -1]),\n",
       " array([-1,  1, -1,  1, -1,  1, -1,  1, -1]),\n",
       " array([-1,  1, -1,  1, -1,  1, -1,  1,  1]),\n",
       " array([ 1, -1, -1,  1, -1,  1, -1,  1, -1]),\n",
       " array([-1,  1,  1,  1, -1,  1, -1,  1, -1]),\n",
       " array([-1,  1,  1,  1, -1, -1, -1,  1, -1]),\n",
       " array([ 1, -1,  1, -1,  1, -1,  1, -1,  1]),\n",
       " array([ 1,  1,  1, -1,  1, -1,  1, -1,  1]),\n",
       " array([ 1, -1, -1, -1,  1,  1,  1, -1,  1]),\n",
       " array([-1, -1,  1, -1,  1, -1, -1, -1, -1]),\n",
       " array([ 1, -1,  1, -1,  1, -1, -1, -1, -1]),\n",
       " array([-1, -1,  1, -1,  1, -1,  1, -1,  1]),\n",
       " array([ 1, -1,  1, -1,  1, -1, -1,  1,  1]),\n",
       " array([ 1, -1,  1, -1,  1,  1,  1, -1,  1]),\n",
       " array([ 1, -1,  1, -1,  1, -1,  1, -1,  1]),\n",
       " array([ 1, -1,  1, -1,  1, -1, -1, -1,  1]),\n",
       " array([ 1,  1, -1, -1,  1, -1,  1, -1,  1]),\n",
       " array([ 1, -1,  1, -1,  1, -1,  1, -1, -1]),\n",
       " array([ 1, -1, -1, -1,  1,  1,  1, -1,  1]),\n",
       " array([-1,  1, -1,  1, -1, -1,  1, -1,  1]),\n",
       " array([-1,  1,  1,  1, -1, -1, -1,  1,  1]),\n",
       " array([ 1,  1, -1, -1, -1,  1, -1,  1, -1]),\n",
       " array([-1,  1, -1, -1,  1,  1,  1, -1,  1]),\n",
       " array([-1,  1, -1,  1, -1, -1, -1,  1,  1]),\n",
       " array([-1,  1, -1,  1, -1,  1,  1,  1, -1]),\n",
       " array([-1,  1, -1,  1, -1,  1, -1,  1, -1]),\n",
       " array([ 1, -1, -1,  1, -1, -1, -1,  1, -1]),\n",
       " array([ 1, -1,  1, -1,  1,  1,  1, -1,  1]),\n",
       " array([ 1, -1, -1, -1,  1,  1,  1, -1,  1]),\n",
       " array([-1, -1,  1, -1,  1, -1,  1, -1,  1]),\n",
       " array([-1,  1,  1, -1,  1, -1,  1, -1,  1]),\n",
       " array([-1,  1, -1,  1, -1,  1, -1,  1, -1]),\n",
       " array([-1,  1, -1,  1, -1,  1,  1,  1, -1]),\n",
       " array([-1,  1, -1,  1, -1,  1, -1,  1, -1]),\n",
       " array([ 1,  1, -1,  1, -1,  1, -1,  1, -1]),\n",
       " array([-1,  1, -1,  1, -1,  1,  1, -1, -1]),\n",
       " array([ 1, -1, -1, -1,  1,  1,  1, -1,  1]),\n",
       " array([ 1, -1, -1, -1,  1, -1,  1, -1,  1]),\n",
       " array([ 1,  1, -1,  1, -1,  1, -1,  1, -1]),\n",
       " array([-1,  1,  1,  1, -1, -1, -1,  1, -1]),\n",
       " array([-1,  1,  1,  1, -1, -1, -1,  1,  1]),\n",
       " array([ 1, -1,  1, -1, -1,  1,  1,  1,  1]),\n",
       " array([-1, -1,  1,  1, -1, -1, -1,  1, -1]),\n",
       " array([ 1,  1, -1,  1, -1,  1,  1,  1, -1]),\n",
       " array([ 1,  1, -1, -1, -1,  1,  1,  1, -1]),\n",
       " array([-1, -1,  1, -1,  1, -1,  1, -1,  1]),\n",
       " array([-1, -1,  1,  1, -1, -1, -1,  1, -1]),\n",
       " array([-1,  1, -1,  1, -1,  1, -1, -1,  1]),\n",
       " array([-1,  1,  1,  1, -1,  1, -1,  1, -1]),\n",
       " array([-1,  1, -1,  1, -1,  1, -1,  1, -1]),\n",
       " array([ 1, -1,  1, -1,  1, -1, -1,  1,  1]),\n",
       " array([ 1, -1,  1,  1,  1, -1,  1, -1,  1]),\n",
       " array([ 1, -1, -1,  1,  1,  1, -1,  1, -1]),\n",
       " array([ 1, -1,  1, -1,  1, -1, -1, -1,  1]),\n",
       " array([ 1, -1,  1, -1,  1, -1,  1, -1,  1]),\n",
       " array([-1,  1, -1, -1,  1, -1,  1, -1,  1]),\n",
       " array([ 1, -1,  1, -1,  1, -1,  1, -1,  1]),\n",
       " array([ 1, -1, -1, -1,  1, -1,  1, -1,  1]),\n",
       " array([ 1,  1, -1, -1,  1, -1,  1, -1,  1]),\n",
       " array([-1,  1, -1,  1, -1,  1, -1,  1, -1]),\n",
       " array([-1,  1, -1,  1, -1,  1, -1,  1,  1]),\n",
       " array([-1,  1, -1,  1, -1,  1, -1,  1, -1]),\n",
       " array([ 1,  1, -1,  1, -1,  1, -1,  1, -1]),\n",
       " array([ 1,  1, -1, -1, -1,  1, -1,  1, -1]),\n",
       " array([-1,  1, -1,  1, -1,  1, -1,  1,  1]),\n",
       " array([-1,  1, -1,  1, -1,  1, -1,  1, -1]),\n",
       " array([ 1,  1, -1,  1, -1,  1, -1,  1, -1]),\n",
       " array([-1,  1, -1,  1, -1,  1, -1,  1, -1]),\n",
       " array([ 1, -1,  1,  1,  1, -1, -1, -1,  1]),\n",
       " array([ 1, -1,  1, -1,  1, -1, -1, -1,  1]),\n",
       " array([ 1,  1, -1, -1,  1, -1,  1, -1,  1]),\n",
       " array([ 1, -1, -1, -1,  1, -1,  1, -1,  1]),\n",
       " array([ 1, -1,  1, -1,  1, -1,  1,  1, -1]),\n",
       " array([ 1, -1,  1, -1,  1, -1, -1, -1,  1]),\n",
       " array([ 1, -1,  1, -1,  1, -1,  1, -1,  1]),\n",
       " array([ 1, -1, -1, -1,  1,  1,  1, -1, -1]),\n",
       " array([ 1, -1,  1, -1,  1, -1,  1, -1,  1]),\n",
       " array([ 1, -1,  1, -1,  1,  1,  1, -1,  1]),\n",
       " array([ 1, -1,  1, -1,  1, -1,  1, -1,  1]),\n",
       " array([ 1, -1,  1, -1,  1, -1,  1, -1, -1]),\n",
       " array([ 1, -1,  1, -1,  1, -1, -1, -1, -1]),\n",
       " array([ 1, -1,  1, -1,  1, -1,  1, -1, -1]),\n",
       " array([ 1, -1,  1, -1,  1, -1,  1, -1,  1]),\n",
       " array([-1, -1,  1, -1,  1, -1,  1, -1,  1]),\n",
       " array([ 1, -1,  1, -1,  1, -1,  1, -1,  1]),\n",
       " array([-1,  1, -1, -1, -1,  1,  1, -1,  1]),\n",
       " array([-1,  1, -1,  1,  1,  1, -1, -1,  1]),\n",
       " array([-1,  1,  1,  1, -1, -1, -1,  1, -1]),\n",
       " array([-1,  1, -1,  1, -1,  1,  1, -1,  1]),\n",
       " array([ 1, -1, -1,  1, -1,  1, -1,  1, -1]),\n",
       " array([-1,  1, -1,  1, -1,  1,  1,  1, -1]),\n",
       " array([-1,  1, -1,  1, -1,  1, -1,  1, -1]),\n",
       " array([-1, -1,  1,  1, -1, -1, -1,  1, -1]),\n",
       " array([ 1,  1,  1, -1,  1, -1,  1, -1,  1]),\n",
       " array([ 1, -1,  1, -1,  1, -1,  1, -1,  1]),\n",
       " array([-1, -1,  1,  1,  1, -1, -1, -1,  1]),\n",
       " array([-1,  1, -1,  1,  1, -1,  1, -1,  1]),\n",
       " array([ 1, -1, -1, -1, -1,  1,  1, -1,  1]),\n",
       " array([-1,  1, -1,  1, -1, -1, -1,  1, -1]),\n",
       " array([-1,  1, -1,  1, -1,  1, -1,  1, -1]),\n",
       " array([-1,  1, -1,  1, -1,  1,  1,  1, -1]),\n",
       " array([-1,  1, -1,  1, -1,  1, -1,  1, -1]),\n",
       " array([ 1, -1, -1, -1,  1, -1,  1, -1, -1]),\n",
       " array([-1, -1,  1, -1,  1, -1,  1, -1,  1]),\n",
       " array([ 1, -1,  1, -1,  1, -1,  1, -1,  1]),\n",
       " array([-1, -1,  1, -1,  1, -1,  1, -1,  1]),\n",
       " array([ 1, -1,  1, -1,  1,  1,  1, -1, -1]),\n",
       " array([-1,  1,  1,  1,  1, -1,  1, -1,  1]),\n",
       " array([-1,  1, -1,  1, -1,  1, -1,  1,  1]),\n",
       " array([-1,  1, -1, -1, -1,  1,  1, -1,  1]),\n",
       " array([-1,  1, -1,  1, -1,  1, -1,  1,  1]),\n",
       " array([-1,  1, -1,  1, -1,  1, -1,  1, -1]),\n",
       " array([-1,  1, -1,  1, -1,  1,  1, -1,  1]),\n",
       " array([-1,  1, -1,  1, -1,  1, -1,  1, -1]),\n",
       " array([ 1, -1,  1, -1,  1, -1,  1, -1,  1]),\n",
       " array([ 1, -1,  1, -1,  1, -1,  1, -1, -1]),\n",
       " array([ 1, -1,  1,  1, -1, -1, -1,  1,  1]),\n",
       " array([ 1, -1, -1, -1,  1, -1,  1, -1,  1]),\n",
       " array([ 1, -1,  1, -1,  1, -1, -1,  1,  1]),\n",
       " array([ 1, -1, -1, -1,  1, -1,  1, -1,  1]),\n",
       " array([ 1,  1, -1, -1,  1, -1,  1, -1,  1]),\n",
       " array([ 1, -1,  1, -1,  1,  1,  1, -1,  1]),\n",
       " array([ 1, -1,  1,  1,  1, -1, -1, -1,  1]),\n",
       " array([ 1, -1,  1, -1,  1, -1,  1, -1, -1]),\n",
       " array([ 1, -1, -1, -1,  1,  1,  1,  1, -1]),\n",
       " array([-1,  1, -1,  1, -1,  1, -1,  1, -1]),\n",
       " array([-1,  1,  1,  1, -1,  1, -1,  1, -1]),\n",
       " array([-1, -1,  1, -1,  1, -1,  1, -1,  1]),\n",
       " array([-1,  1,  1,  1, -1,  1, -1,  1, -1]),\n",
       " array([-1,  1, -1,  1, -1,  1, -1,  1, -1]),\n",
       " array([ 1,  1, -1,  1, -1,  1, -1,  1, -1]),\n",
       " array([-1,  1,  1,  1, -1,  1, -1, -1, -1]),\n",
       " array([-1,  1, -1,  1, -1,  1,  1,  1, -1]),\n",
       " array([-1,  1, -1,  1, -1,  1, -1,  1, -1]),\n",
       " array([-1,  1, -1,  1, -1, -1, -1,  1, -1]),\n",
       " array([-1,  1, -1,  1, -1,  1,  1, -1, -1]),\n",
       " array([-1,  1, -1,  1, -1,  1, -1,  1,  1]),\n",
       " array([-1,  1, -1,  1, -1,  1, -1,  1, -1]),\n",
       " array([-1,  1,  1,  1, -1,  1, -1,  1, -1]),\n",
       " array([ 1, -1,  1,  1,  1,  1, -1, -1,  1]),\n",
       " array([ 1, -1,  1, -1,  1, -1,  1,  1, -1]),\n",
       " array([ 1, -1,  1, -1,  1, -1,  1, -1, -1]),\n",
       " array([ 1, -1,  1, -1,  1, -1,  1, -1,  1]),\n",
       " array([ 1, -1,  1, -1,  1, -1, -1, -1,  1]),\n",
       " array([ 1, -1,  1,  1, -1,  1, -1,  1, -1]),\n",
       " array([ 1, -1, -1,  1, -1,  1, -1,  1, -1]),\n",
       " array([ 1,  1, -1,  1, -1,  1, -1,  1, -1]),\n",
       " array([ 1,  1, -1, -1, -1,  1, -1,  1, -1]),\n",
       " array([ 1,  1, -1,  1, -1,  1, -1,  1, -1]),\n",
       " array([ 1, -1, -1, -1,  1, -1,  1, -1,  1]),\n",
       " array([ 1,  1, -1, -1, -1,  1,  1,  1, -1]),\n",
       " array([ 1, -1, -1, -1, -1,  1,  1,  1, -1]),\n",
       " array([-1,  1, -1,  1, -1,  1,  1,  1, -1]),\n",
       " array([-1,  1, -1,  1, -1,  1,  1, -1, -1]),\n",
       " array([-1, -1, -1,  1,  1, -1, -1, -1,  1]),\n",
       " array([ 1, -1, -1, -1,  1, -1,  1, -1,  1]),\n",
       " array([-1,  1, -1,  1, -1,  1,  1, -1,  1]),\n",
       " array([-1,  1, -1,  1, -1,  1, -1,  1, -1]),\n",
       " array([-1,  1, -1,  1, -1,  1,  1,  1, -1]),\n",
       " array([-1,  1, -1,  1, -1,  1, -1,  1, -1]),\n",
       " array([-1,  1,  1,  1, -1,  1, -1,  1, -1]),\n",
       " array([-1,  1,  1,  1, -1, -1, -1,  1, -1]),\n",
       " array([-1,  1, -1,  1, -1,  1,  1, -1,  1]),\n",
       " array([-1,  1, -1, -1, -1,  1,  1,  1, -1]),\n",
       " array([ 1,  1, -1, -1, -1,  1, -1,  1,  1]),\n",
       " array([ 1, -1,  1, -1,  1, -1, -1, -1,  1]),\n",
       " array([ 1, -1,  1, -1,  1, -1,  1, -1,  1]),\n",
       " array([ 1,  1,  1, -1, -1,  1,  1,  1, -1]),\n",
       " array([-1, -1,  1,  1,  1,  1, -1,  1, -1]),\n",
       " array([ 1, -1, -1,  1, -1,  1, -1,  1, -1]),\n",
       " array([ 1, -1,  1,  1,  1, -1, -1,  1, -1]),\n",
       " array([-1, -1,  1,  1,  1, -1, -1, -1,  1]),\n",
       " array([ 1, -1,  1, -1,  1, -1,  1, -1,  1]),\n",
       " array([ 1, -1,  1, -1,  1, -1, -1, -1,  1]),\n",
       " array([ 1, -1,  1, -1,  1, -1,  1, -1,  1]),\n",
       " array([ 1, -1,  1, -1,  1, -1, -1, -1,  1]),\n",
       " array([ 1, -1,  1, -1,  1, -1,  1, -1,  1]),\n",
       " array([ 1, -1,  1, -1,  1, -1, -1,  1, -1]),\n",
       " array([ 1, -1,  1, -1,  1, -1,  1, -1,  1]),\n",
       " array([ 1, -1,  1, -1,  1, -1,  1, -1, -1]),\n",
       " array([ 1, -1,  1, -1,  1, -1, -1,  1,  1]),\n",
       " array([ 1, -1, -1, -1,  1, -1,  1, -1,  1]),\n",
       " array([ 1, -1,  1, -1,  1, -1,  1, -1,  1]),\n",
       " array([ 1, -1,  1,  1,  1, -1,  1, -1,  1]),\n",
       " array([ 1, -1,  1, -1,  1, -1,  1, -1,  1]),\n",
       " array([-1,  1, -1,  1, -1,  1, -1,  1, -1]),\n",
       " array([-1,  1,  1,  1, -1,  1, -1,  1, -1]),\n",
       " array([-1,  1, -1, -1, -1,  1,  1,  1, -1]),\n",
       " array([ 1,  1,  1, -1, -1,  1, -1,  1, -1]),\n",
       " array([-1,  1,  1,  1, -1,  1, -1,  1,  1]),\n",
       " array([ 1,  1, -1,  1, -1,  1, -1,  1, -1])]"
      ]
     },
     "execution_count": 207,
     "metadata": {},
     "output_type": "execute_result"
    }
   ],
   "source": [
    "mcmc(flip_spin, generate_grid(3), score_fn, 5_000)"
   ]
  },
  {
   "cell_type": "code",
   "execution_count": null,
   "metadata": {},
   "outputs": [],
   "source": []
  }
 ],
 "metadata": {
  "kernelspec": {
   "display_name": "base",
   "language": "python",
   "name": "python3"
  },
  "language_info": {
   "codemirror_mode": {
    "name": "ipython",
    "version": 3
   },
   "file_extension": ".py",
   "mimetype": "text/x-python",
   "name": "python",
   "nbconvert_exporter": "python",
   "pygments_lexer": "ipython3",
   "version": "3.11.8"
  }
 },
 "nbformat": 4,
 "nbformat_minor": 2
}
