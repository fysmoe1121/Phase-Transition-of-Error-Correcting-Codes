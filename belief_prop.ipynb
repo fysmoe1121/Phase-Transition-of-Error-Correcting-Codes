{
 "cells": [
  {
   "cell_type": "code",
   "execution_count": 1,
   "metadata": {},
   "outputs": [
    {
     "name": "stdout",
     "output_type": "stream",
     "text": [
      "[[[0.76649394 0.76649394 0.76649394 0.76649394]\n",
      "  [0.76649394 0.76649394 0.76649394 0.76649394]\n",
      "  [0.76649394 0.76649394 0.76649394 0.76649394]\n",
      "  [0.76649394 0.76649394 0.76649394 0.76649394]\n",
      "  [0.76649394 0.76649394 0.76649394 0.76649394]]\n",
      "\n",
      " [[0.76649394 0.76649394 0.76649394 0.76649394]\n",
      "  [0.76649394 0.76649394 0.76649394 0.76649394]\n",
      "  [0.76649394 0.76649394 0.76649394 0.76649394]\n",
      "  [0.76649394 0.76649394 0.76649394 0.76649394]\n",
      "  [0.76649394 0.76649394 0.76649394 0.76649394]]\n",
      "\n",
      " [[0.76649394 0.76649394 0.76649394 0.76649394]\n",
      "  [0.76649394 0.76649394 0.76649394 0.76649394]\n",
      "  [0.76649394 0.76649394 0.76649394 0.76649394]\n",
      "  [0.76649394 0.76649394 0.76649394 0.76649394]\n",
      "  [0.76649394 0.76649394 0.76649394 0.76649394]]\n",
      "\n",
      " [[0.76649394 0.76649394 0.76649394 0.76649394]\n",
      "  [0.76649394 0.76649394 0.76649394 0.76649394]\n",
      "  [0.76649394 0.76649394 0.76649394 0.76649394]\n",
      "  [0.76649394 0.76649394 0.76649394 0.76649394]\n",
      "  [0.76649394 0.76649394 0.76649394 0.76649394]]\n",
      "\n",
      " [[0.76649394 0.76649394 0.76649394 0.76649394]\n",
      "  [0.76649394 0.76649394 0.76649394 0.76649394]\n",
      "  [0.76649394 0.76649394 0.76649394 0.76649394]\n",
      "  [0.76649394 0.76649394 0.76649394 0.76649394]\n",
      "  [0.76649394 0.76649394 0.76649394 0.76649394]]]\n"
     ]
    }
   ],
   "source": [
    "import numpy as np\n",
    "\n",
    "def initialize_messages(L, init_val=1.0):\n",
    "    \"\"\" Initialize the messages to a constant value (e.g., 1). \"\"\"\n",
    "    messages = np.full((L, L, 4), init_val)  # 4 directions (N, E, S, W)\n",
    "    return messages\n",
    "\n",
    "def update_messages(L, J, beta, messages):\n",
    "    \"\"\" Perform a single iteration of message updates. \"\"\"\n",
    "    new_messages = np.zeros_like(messages)\n",
    "    for i in range(L):\n",
    "        for j in range(L):\n",
    "            for direction in range(4):\n",
    "                # Determine neighbors based on direction\n",
    "                ni, nj = neighbor_index(i, j, direction, L)\n",
    "                # Sum contributions from all but the direction of interest\n",
    "                m_sum = 0\n",
    "                for back_dir in range(4):\n",
    "                    if back_dir == (direction + 2) % 4:\n",
    "                        continue\n",
    "                    back_ni, back_nj = neighbor_index(i, j, back_dir, L)\n",
    "                    m_sum += messages[back_ni, back_nj, (back_dir + 2) % 4]\n",
    "                \n",
    "                new_messages[i, j, direction] = np.tanh(beta * J * m_sum)\n",
    "    return new_messages\n",
    "\n",
    "def neighbor_index(i, j, direction, L):\n",
    "    \"\"\" Return the neighbor index for direction N=0, E=1, S=2, W=3. \"\"\"\n",
    "    if direction == 0:  # North\n",
    "        return (i - 1) % L, j\n",
    "    elif direction == 1:  # East\n",
    "        return i, (j + 1) % L\n",
    "    elif direction == 2:  # South\n",
    "        return (i + 1) % L, j\n",
    "    elif direction == 3:  # West\n",
    "        return i, (j - 1) % L\n",
    "\n",
    "def loopy_belief_propagation(L, J, beta, iterations=30):\n",
    "    messages = initialize_messages(L)\n",
    "    for _ in range(iterations):\n",
    "        messages = update_messages(L, J, beta, messages)\n",
    "    return messages\n",
    "\n",
    "# Example usage:\n",
    "L = 5  # lattice size\n",
    "J = 1   # interaction strength\n",
    "beta = 0.44  # inverse temperature\n",
    "messages = loopy_belief_propagation(L, J, beta)\n",
    "print(messages)"
   ]
  },
  {
   "cell_type": "code",
   "execution_count": null,
   "metadata": {},
   "outputs": [],
   "source": []
  }
 ],
 "metadata": {
  "kernelspec": {
   "display_name": "base",
   "language": "python",
   "name": "python3"
  },
  "language_info": {
   "codemirror_mode": {
    "name": "ipython",
    "version": 3
   },
   "file_extension": ".py",
   "mimetype": "text/x-python",
   "name": "python",
   "nbconvert_exporter": "python",
   "pygments_lexer": "ipython3",
   "version": "3.11.8"
  }
 },
 "nbformat": 4,
 "nbformat_minor": 2
}
